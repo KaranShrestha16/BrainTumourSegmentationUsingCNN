{
 "cells": [
  {
   "cell_type": "code",
   "execution_count": 2,
   "metadata": {},
   "outputs": [],
   "source": [
    "import tensorflow as tf\n",
    "from tensorflow.keras.models import Sequential\n",
    "from tensorflow.keras.layers import Conv2D, MaxPooling2D, Flatten, Dense, Dropout\n",
    "from tensorflow.keras.preprocessing.image import ImageDataGenerator\n",
    "from tensorflow.keras.optimizers import Adam\n"
   ]
  },
  {
   "cell_type": "code",
   "execution_count": 4,
   "metadata": {},
   "outputs": [
    {
     "name": "stdout",
     "output_type": "stream",
     "text": [
      "Found 203 images belonging to 2 classes.\n",
      "Found 50 images belonging to 2 classes.\n"
     ]
    }
   ],
   "source": [
    "# Define paths \n",
    "train_dir = r'C:\\Users\\mango\\Downloads\\VS Code Projects\\Brain Tumor\\Brain Tumor data set\\Train'\n",
    "validatio_dir = r'C:\\Users\\mango\\Downloads\\VS Code Projects\\Brain Tumor\\Brain Tumor data set\\Validation'\n",
    "\n",
    "# Set image size and batch size\n",
    "image_size = (128, 128)\n",
    "batch_size = 32\n",
    "\n",
    "# Image data generator for training set with data augmentation\n",
    "train_datagen = ImageDataGenerator(\n",
    "    rescale=1.0/255,\n",
    "    rotation_range=20,\n",
    "    width_shift_range=0.2,\n",
    "    height_shift_range=0.2,\n",
    "    shear_range=0.2,\n",
    "    zoom_range=0.2,\n",
    "    horizontal_flip=True,\n",
    "    fill_mode='nearest',\n",
    "    validation_split=0.2  # Splitting validation data\n",
    ")\n",
    "\n",
    "# Image data generator for validation set\n",
    "validation_datagen = ImageDataGenerator(rescale=1.0/255, validation_split=0.2)\n",
    "\n",
    "# Loading training data\n",
    "train_generator = train_datagen.flow_from_directory(\n",
    "   train_dir,\n",
    "    target_size=image_size,\n",
    "    batch_size=batch_size,\n",
    "    class_mode='binary',\n",
    "    subset='training'\n",
    ")\n",
    "\n",
    "# Loading validation data\n",
    "validation_generator = validation_datagen.flow_from_directory(\n",
    "   validatio_dir,\n",
    "    target_size=image_size,\n",
    "    batch_size=batch_size,\n",
    "    class_mode='binary',\n",
    "    subset='validation'\n",
    ")\n"
   ]
  },
  {
   "cell_type": "code",
   "execution_count": 5,
   "metadata": {},
   "outputs": [
    {
     "name": "stderr",
     "output_type": "stream",
     "text": [
      "WARNING:absl:`lr` is deprecated, please use `learning_rate` instead, or use the legacy optimizer, e.g.,tf.keras.optimizers.legacy.Adam.\n"
     ]
    },
    {
     "name": "stdout",
     "output_type": "stream",
     "text": [
      "Model: \"sequential\"\n",
      "_________________________________________________________________\n",
      " Layer (type)                Output Shape              Param #   \n",
      "=================================================================\n",
      " conv2d (Conv2D)             (None, 126, 126, 32)      896       \n",
      "                                                                 \n",
      " max_pooling2d (MaxPooling2D  (None, 63, 63, 32)       0         \n",
      " )                                                               \n",
      "                                                                 \n",
      " conv2d_1 (Conv2D)           (None, 61, 61, 64)        18496     \n",
      "                                                                 \n",
      " max_pooling2d_1 (MaxPooling  (None, 30, 30, 64)       0         \n",
      " 2D)                                                             \n",
      "                                                                 \n",
      " conv2d_2 (Conv2D)           (None, 28, 28, 128)       73856     \n",
      "                                                                 \n",
      " max_pooling2d_2 (MaxPooling  (None, 14, 14, 128)      0         \n",
      " 2D)                                                             \n",
      "                                                                 \n",
      " flatten (Flatten)           (None, 25088)             0         \n",
      "                                                                 \n",
      " dense (Dense)               (None, 128)               3211392   \n",
      "                                                                 \n",
      " dropout (Dropout)           (None, 128)               0         \n",
      "                                                                 \n",
      " dense_1 (Dense)             (None, 1)                 129       \n",
      "                                                                 \n",
      "=================================================================\n",
      "Total params: 3,304,769\n",
      "Trainable params: 3,304,769\n",
      "Non-trainable params: 0\n",
      "_________________________________________________________________\n"
     ]
    }
   ],
   "source": [
    "# Initialize the CNN\n",
    "model = Sequential()\n",
    "\n",
    "# Convolutional Layer 1\n",
    "model.add(Conv2D(32, (3, 3), activation='relu', input_shape=(image_size[0], image_size[1], 3)))\n",
    "model.add(MaxPooling2D(pool_size=(2, 2)))\n",
    "\n",
    "# Convolutional Layer 2\n",
    "model.add(Conv2D(64, (3, 3), activation='relu'))\n",
    "model.add(MaxPooling2D(pool_size=(2, 2)))\n",
    "\n",
    "# Convolutional Layer 3\n",
    "model.add(Conv2D(128, (3, 3), activation='relu'))\n",
    "model.add(MaxPooling2D(pool_size=(2, 2)))\n",
    "\n",
    "# Fully Connected Layer\n",
    "model.add(Flatten())\n",
    "model.add(Dense(128, activation='relu'))\n",
    "model.add(Dropout(0.5))\n",
    "model.add(Dense(1, activation='sigmoid'))  # Output layer for binary classification\n",
    "\n",
    "# Compile the model\n",
    "model.compile(optimizer=Adam(lr=0.001), loss='binary_crossentropy', metrics=['accuracy'])\n",
    "\n",
    "# Model summary\n",
    "model.summary()\n"
   ]
  },
  {
   "cell_type": "code",
   "execution_count": 6,
   "metadata": {},
   "outputs": [
    {
     "name": "stdout",
     "output_type": "stream",
     "text": [
      "Epoch 1/25\n",
      "6/6 [==============================] - 7s 931ms/step - loss: 0.7499 - accuracy: 0.5439 - val_loss: 0.6553 - val_accuracy: 0.6562\n",
      "Epoch 2/25\n",
      "6/6 [==============================] - 4s 626ms/step - loss: 0.6678 - accuracy: 0.6140 - val_loss: 0.6408 - val_accuracy: 0.5625\n",
      "Epoch 3/25\n",
      "6/6 [==============================] - 4s 664ms/step - loss: 0.6656 - accuracy: 0.6199 - val_loss: 0.6954 - val_accuracy: 0.5625\n",
      "Epoch 4/25\n",
      "6/6 [==============================] - 5s 800ms/step - loss: 0.6584 - accuracy: 0.6250 - val_loss: 0.5935 - val_accuracy: 0.6562\n",
      "Epoch 5/25\n",
      "6/6 [==============================] - 4s 811ms/step - loss: 0.6637 - accuracy: 0.6374 - val_loss: 0.6199 - val_accuracy: 0.5938\n",
      "Epoch 6/25\n",
      "6/6 [==============================] - 4s 699ms/step - loss: 0.6506 - accuracy: 0.6199 - val_loss: 0.5921 - val_accuracy: 0.6250\n",
      "Epoch 7/25\n",
      "6/6 [==============================] - 5s 750ms/step - loss: 0.6399 - accuracy: 0.6316 - val_loss: 0.4929 - val_accuracy: 0.7500\n",
      "Epoch 8/25\n",
      "6/6 [==============================] - 5s 738ms/step - loss: 0.6298 - accuracy: 0.6608 - val_loss: 0.5886 - val_accuracy: 0.6875\n",
      "Epoch 9/25\n",
      "6/6 [==============================] - 4s 713ms/step - loss: 0.6058 - accuracy: 0.6433 - val_loss: 0.5598 - val_accuracy: 0.7500\n",
      "Epoch 10/25\n",
      "6/6 [==============================] - 4s 722ms/step - loss: 0.5957 - accuracy: 0.6959 - val_loss: 0.6241 - val_accuracy: 0.6562\n",
      "Epoch 11/25\n",
      "6/6 [==============================] - 4s 712ms/step - loss: 0.6378 - accuracy: 0.6550 - val_loss: 0.4847 - val_accuracy: 0.7500\n",
      "Epoch 12/25\n",
      "6/6 [==============================] - 4s 673ms/step - loss: 0.6088 - accuracy: 0.6784 - val_loss: 0.7318 - val_accuracy: 0.5938\n",
      "Epoch 13/25\n",
      "6/6 [==============================] - 4s 687ms/step - loss: 0.6275 - accuracy: 0.6959 - val_loss: 0.6720 - val_accuracy: 0.5938\n",
      "Epoch 14/25\n",
      "6/6 [==============================] - 4s 706ms/step - loss: 0.6365 - accuracy: 0.6842 - val_loss: 0.5257 - val_accuracy: 0.7188\n",
      "Epoch 15/25\n",
      "6/6 [==============================] - 5s 779ms/step - loss: 0.5968 - accuracy: 0.6725 - val_loss: 0.7196 - val_accuracy: 0.6562\n",
      "Epoch 16/25\n",
      "6/6 [==============================] - 4s 698ms/step - loss: 0.6246 - accuracy: 0.6959 - val_loss: 0.6950 - val_accuracy: 0.6875\n",
      "Epoch 17/25\n",
      "6/6 [==============================] - 4s 771ms/step - loss: 0.6613 - accuracy: 0.6550 - val_loss: 0.5672 - val_accuracy: 0.6875\n",
      "Epoch 18/25\n",
      "6/6 [==============================] - 5s 807ms/step - loss: 0.6264 - accuracy: 0.6550 - val_loss: 0.5692 - val_accuracy: 0.6875\n",
      "Epoch 19/25\n",
      "6/6 [==============================] - 5s 745ms/step - loss: 0.5924 - accuracy: 0.6959 - val_loss: 0.4735 - val_accuracy: 0.7500\n",
      "Epoch 20/25\n",
      "6/6 [==============================] - 5s 757ms/step - loss: 0.6207 - accuracy: 0.6784 - val_loss: 0.5777 - val_accuracy: 0.7188\n",
      "Epoch 21/25\n",
      "6/6 [==============================] - 5s 705ms/step - loss: 0.5699 - accuracy: 0.7368 - val_loss: 0.4902 - val_accuracy: 0.7188\n",
      "Epoch 22/25\n",
      "6/6 [==============================] - 4s 740ms/step - loss: 0.6486 - accuracy: 0.6433 - val_loss: 0.8058 - val_accuracy: 0.5938\n",
      "Epoch 23/25\n",
      "6/6 [==============================] - 4s 656ms/step - loss: 0.6283 - accuracy: 0.6608 - val_loss: 0.5388 - val_accuracy: 0.7500\n",
      "Epoch 24/25\n",
      "6/6 [==============================] - 4s 765ms/step - loss: 0.5525 - accuracy: 0.8012 - val_loss: 0.4766 - val_accuracy: 0.8125\n",
      "Epoch 25/25\n",
      "6/6 [==============================] - 4s 665ms/step - loss: 0.5649 - accuracy: 0.7310 - val_loss: 0.5307 - val_accuracy: 0.7188\n"
     ]
    }
   ],
   "source": [
    "# Train the model\n",
    "history = model.fit(\n",
    "    train_generator,\n",
    "    steps_per_epoch=train_generator.samples // batch_size,\n",
    "    validation_data=validation_generator,\n",
    "    validation_steps=validation_generator.samples // batch_size,\n",
    "    epochs=25  # You can adjust the number of epochs\n",
    ")\n"
   ]
  },
  {
   "cell_type": "code",
   "execution_count": 7,
   "metadata": {},
   "outputs": [
    {
     "name": "stdout",
     "output_type": "stream",
     "text": [
      "2/2 [==============================] - 0s 72ms/step - loss: 0.4864 - accuracy: 0.7600\n",
      "Validation Loss: 0.4864286780357361\n",
      "Validation Accuracy: 0.7599999904632568\n"
     ]
    }
   ],
   "source": [
    "# Evaluate the model\n",
    "loss, accuracy = model.evaluate(validation_generator)\n",
    "print(f\"Validation Loss: {loss}\")\n",
    "print(f\"Validation Accuracy: {accuracy}\")\n"
   ]
  },
  {
   "cell_type": "code",
   "execution_count": 8,
   "metadata": {},
   "outputs": [],
   "source": [
    "# Save the model\n",
    "model.save('brain_tumor_cnn_model.h5')\n"
   ]
  },
  {
   "cell_type": "code",
   "execution_count": 19,
   "metadata": {},
   "outputs": [
    {
     "name": "stdout",
     "output_type": "stream",
     "text": [
      "1/1 [==============================] - 0s 82ms/step\n",
      "Prediction (0: No Tumor, 1: Tumor): 0.6697573065757751\n"
     ]
    }
   ],
   "source": [
    "# Load the model\n",
    "loaded_model = tf.keras.models.load_model('brain_tumor_cnn_model.h5')\n",
    "\n",
    "# Make predictions\n",
    "test_image_path = r\"C:\\Users\\mango\\Downloads\\VS Code Projects\\Brain Tumor\\Brain Tumor data set\\Validation\\yes\\Y31.jpg\"\n",
    "img = tf.keras.preprocessing.image.load_img(test_image_path, target_size=image_size)\n",
    "img_array = tf.keras.preprocessing.image.img_to_array(img) / 255.0\n",
    "img_array = tf.expand_dims(img_array, axis=0)\n",
    "\n",
    "predictions = loaded_model.predict(img_array)\n",
    "print(f'Prediction (0: No Tumor, 1: Tumor): {predictions[0][0]}')\n"
   ]
  },
  {
   "cell_type": "code",
   "execution_count": 18,
   "metadata": {},
   "outputs": [
    {
     "name": "stdout",
     "output_type": "stream",
     "text": [
      "2/2 [==============================] - 0s 71ms/step - loss: 0.4864 - accuracy: 0.7600\n",
      "Validation Loss: 0.4864286780357361\n",
      "Validation Accuracy: 0.7599999904632568\n",
      "2/2 [==============================] - 0s 75ms/step\n",
      "Classification Report:\n",
      "              precision    recall  f1-score   support\n",
      "\n",
      "          no       0.47      0.42      0.44        19\n",
      "         yes       0.67      0.71      0.69        31\n",
      "\n",
      "    accuracy                           0.60        50\n",
      "   macro avg       0.57      0.57      0.57        50\n",
      "weighted avg       0.59      0.60      0.60        50\n",
      "\n",
      "Confusion Matrix:\n",
      "[[ 8 11]\n",
      " [ 9 22]]\n"
     ]
    }
   ],
   "source": [
    "# Load the model\n",
    "loaded_model = tf.keras.models.load_model('brain_tumor_cnn_model.h5')\n",
    "\n",
    "# Evaluate the model on the validation dataset\n",
    "eval_result = loaded_model.evaluate(validation_generator)\n",
    "print(f'Validation Loss: {eval_result[0]}')\n",
    "print(f'Validation Accuracy: {eval_result[1]}')\n",
    "\n",
    "# Predict on the validation dataset\n",
    "predictions = loaded_model.predict(validation_generator)\n",
    "predicted_classes = (predictions > 0.5).astype(int).flatten()  # Convert probabilities to binary classes\n",
    "\n",
    "# Get true classes\n",
    "true_classes = validation_generator.classes\n",
    "class_labels = list(validation_generator.class_indices.keys())\n",
    "\n",
    "# Compare predictions with true classes\n",
    "from sklearn.metrics import classification_report, confusion_matrix\n",
    "\n",
    "print(\"Classification Report:\")\n",
    "print(classification_report(true_classes, predicted_classes, target_names=class_labels))\n",
    "\n",
    "print(\"Confusion Matrix:\")\n",
    "print(confusion_matrix(true_classes, predicted_classes))"
   ]
  }
 ],
 "metadata": {
  "kernelspec": {
   "display_name": "base",
   "language": "python",
   "name": "python3"
  },
  "language_info": {
   "codemirror_mode": {
    "name": "ipython",
    "version": 3
   },
   "file_extension": ".py",
   "mimetype": "text/x-python",
   "name": "python",
   "nbconvert_exporter": "python",
   "pygments_lexer": "ipython3",
   "version": "3.7.9"
  }
 },
 "nbformat": 4,
 "nbformat_minor": 2
}
